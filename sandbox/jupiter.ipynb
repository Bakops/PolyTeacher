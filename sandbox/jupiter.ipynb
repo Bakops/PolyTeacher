{
 "cells": [
  {
   "cell_type": "code",
   "execution_count": null,
   "metadata": {},
   "outputs": [],
   "source": [
    "%pip install google-generativeai"
   ]
  },
  {
   "cell_type": "code",
   "execution_count": null,
   "metadata": {},
   "outputs": [
    {
     "name": "stdout",
     "output_type": "stream",
     "text": [
      "I like flowers\n",
      "\n"
     ]
    }
   ],
   "source": [
    "# https://ai.google.dev/gemini-api/docs/quickstart?lang=python\n",
    "import google.generativeai as genai\n",
    "import os\n",
    "\n",
    "api_key = \"\"\n",
    "\n",
    "source_language = \"FR\"\n",
    "target_language = \"FR\"\n",
    "\n",
    "prompt = \"\"\"\n",
    "Traduis \"J'aime les fleurs\" en anglais. La réponse ne doit contenir que la traduction\n",
    "\"\"\"\n",
    "\n",
    "genai.configure(api_key=api_key)\n",
    "\n",
    "model = genai.GenerativeModel(\"gemini-1.5-flash\")\n",
    "response = model.generate_content(prompt)\n",
    "print(response.text)"
   ]
  },
  {
   "cell_type": "code",
   "execution_count": null,
   "metadata": {},
   "outputs": [
    {
     "name": "stdout",
     "output_type": "stream",
     "text": [
      "Hello\n"
     ]
    }
   ],
   "source": [
    "import google.generativeai as genai\n",
    "\n",
    "def traduction_text(text, target_language):\n",
    "    api_key = \"\"\n",
    "    \n",
    "    prompt = f\"\"\"\n",
    "    Traduis \"{text}\" en {target_language}. La réponse ne doit contenir que la traduction\n",
    "    \"\"\"\n",
    "    \n",
    "    genai.configure(api_key=api_key)\n",
    "    model = genai.GenerativeModel(\"gemini-1.5-flash\")\n",
    "    response = model.generate_content(prompt)\n",
    "    \n",
    "    return response.text.strip()\n",
    "\n",
    "\n",
    "result = traduction_text(\"Allo\", \"anglais\")\n",
    "\n",
    "print(result)\n"
   ]
  }
 ],
 "metadata": {
  "kernelspec": {
   "display_name": "Python 3",
   "language": "python",
   "name": "python3"
  },
  "language_info": {
   "codemirror_mode": {
    "name": "ipython",
    "version": 3
   },
   "file_extension": ".py",
   "mimetype": "text/x-python",
   "name": "python",
   "nbconvert_exporter": "python",
   "pygments_lexer": "ipython3",
   "version": "3.13.0"
  }
 },
 "nbformat": 4,
 "nbformat_minor": 2
}
